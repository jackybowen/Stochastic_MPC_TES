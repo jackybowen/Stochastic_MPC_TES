{
 "cells": [
  {
   "cell_type": "code",
   "execution_count": 9,
   "metadata": {
    "scrolled": true
   },
   "outputs": [
    {
     "name": "stderr",
     "output_type": "stream",
     "text": [
      "WARNING: replacing module LoadParams.\n"
     ]
    },
    {
     "data": {
      "text/plain": [
       "Main.LoadParams"
      ]
     },
     "execution_count": 9,
     "metadata": {},
     "output_type": "execute_result"
    }
   ],
   "source": [
    "using DataFrames\n",
    "using CSV\n",
    "using JuMP\n",
    "using MathOptInterface\n",
    "using Ipopt\n",
    "## Load parameters from config folder\n",
    "include(\"load_params.jl\")"
   ]
  },
  {
   "cell_type": "code",
   "execution_count": 7,
   "metadata": {},
   "outputs": [
    {
     "ename": "KeyError",
     "evalue": "\u001b[91mKeyError: key \"floor1_zone6_flow_min\" not found\u001b[39m",
     "output_type": "error",
     "traceback": [
      "\u001b[91mKeyError: key \"floor1_zone6_flow_min\" not found\u001b[39m",
      "",
      "Stacktrace:",
      " [1] getindex(::Dict{String,Array{String,1}}, ::String) at ./dict.jl:478",
      " [2] retrieve(::ConfParser.ConfParse, ::String, ::String) at /Users/huan926/.julia/packages/ConfParser/b2fge/src/ConfParser.jl:343",
      " [3] parse_float(::ConfParser.ConfParse, ::String, ::String) at /Users/huan926/Stochastic_MPC_TES/load_params.jl:20",
      " [4] Main.LoadParams.BldgParams() at /Users/huan926/Stochastic_MPC_TES/load_params.jl:98",
      " [5] top-level scope at In[7]:1"
     ]
    }
   ],
   "source": [
    "# initialize instances storing the required parameters\n",
    "p = LoadParams.BldgParams()                    # instance of building-specific parameters\n",
    "o = LoadParams.MPCParams()        # instance of model-and-solver-specific parameters\n",
    "print(p.numzones)"
   ]
  }
 ],
 "metadata": {
  "kernelspec": {
   "display_name": "Julia 1.0.5",
   "language": "julia",
   "name": "julia-1.0"
  },
  "language_info": {
   "file_extension": ".jl",
   "mimetype": "application/julia",
   "name": "julia",
   "version": "1.0.5"
  }
 },
 "nbformat": 4,
 "nbformat_minor": 4
}
